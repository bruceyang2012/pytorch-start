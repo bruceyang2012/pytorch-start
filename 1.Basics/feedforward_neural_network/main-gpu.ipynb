{
 "cells": [
  {
   "cell_type": "code",
   "execution_count": 2,
   "metadata": {
    "ExecuteTime": {
     "end_time": "2018-04-26T07:44:16.858302Z",
     "start_time": "2018-04-26T07:43:53.308236Z"
    }
   },
   "outputs": [
    {
     "name": "stderr",
     "output_type": "stream",
     "text": [
      "/home/yangshuang/.conda/envs/yangshuang/lib/python3.5/site-packages/ipykernel/__main__.py:72: UserWarning: invalid index of a 0-dim tensor. This will be an error in PyTorch 0.5. Use tensor.item() to convert a 0-dim tensor to a Python number\n"
     ]
    },
    {
     "name": "stdout",
     "output_type": "stream",
     "text": [
      "Epoch [1/5], Step [100/600], Loss: 0.4938\n",
      "Epoch [1/5], Step [200/600], Loss: 0.2416\n",
      "Epoch [1/5], Step [300/600], Loss: 0.1552\n",
      "Epoch [1/5], Step [400/600], Loss: 0.2101\n",
      "Epoch [1/5], Step [500/600], Loss: 0.2066\n",
      "Epoch [1/5], Step [600/600], Loss: 0.1155\n",
      "Epoch [2/5], Step [100/600], Loss: 0.2268\n",
      "Epoch [2/5], Step [200/600], Loss: 0.1307\n",
      "Epoch [2/5], Step [300/600], Loss: 0.0691\n",
      "Epoch [2/5], Step [400/600], Loss: 0.1459\n",
      "Epoch [2/5], Step [500/600], Loss: 0.1407\n",
      "Epoch [2/5], Step [600/600], Loss: 0.0684\n",
      "Epoch [3/5], Step [100/600], Loss: 0.0721\n",
      "Epoch [3/5], Step [200/600], Loss: 0.1097\n",
      "Epoch [3/5], Step [300/600], Loss: 0.1883\n",
      "Epoch [3/5], Step [400/600], Loss: 0.0353\n",
      "Epoch [3/5], Step [500/600], Loss: 0.0766\n",
      "Epoch [3/5], Step [600/600], Loss: 0.0904\n",
      "Epoch [4/5], Step [100/600], Loss: 0.0642\n",
      "Epoch [4/5], Step [200/600], Loss: 0.1337\n",
      "Epoch [4/5], Step [300/600], Loss: 0.0634\n",
      "Epoch [4/5], Step [400/600], Loss: 0.0746\n",
      "Epoch [4/5], Step [500/600], Loss: 0.0789\n",
      "Epoch [4/5], Step [600/600], Loss: 0.0489\n",
      "Epoch [5/5], Step [100/600], Loss: 0.0107\n",
      "Epoch [5/5], Step [200/600], Loss: 0.0479\n",
      "Epoch [5/5], Step [300/600], Loss: 0.0433\n",
      "Epoch [5/5], Step [400/600], Loss: 0.0114\n",
      "Epoch [5/5], Step [500/600], Loss: 0.0235\n",
      "Epoch [5/5], Step [600/600], Loss: 0.0304\n",
      "Accuracy of the network on the 10000 test images: 97 %\n"
     ]
    }
   ],
   "source": [
    "import torch\n",
    "import torch.nn as nn\n",
    "import torchvision.datasets as dsets\n",
    "import torchvision.transforms as transforms\n",
    "from torch.autograd import Variable\n",
    "\n",
    "\n",
    "# Hyper Parameters \n",
    "input_size = 784\n",
    "hidden_size = 500\n",
    "num_classes = 10\n",
    "num_epochs = 5\n",
    "batch_size = 100\n",
    "learning_rate = 0.001\n",
    "\n",
    "# MNIST Dataset \n",
    "train_dataset = dsets.MNIST(root='./data', \n",
    "                            train=True, \n",
    "                            transform=transforms.ToTensor(),  \n",
    "                            download=True)\n",
    "\n",
    "test_dataset = dsets.MNIST(root='./data', \n",
    "                           train=False, \n",
    "                           transform=transforms.ToTensor())\n",
    "\n",
    "# Data Loader (Input Pipeline)\n",
    "train_loader = torch.utils.data.DataLoader(dataset=train_dataset, \n",
    "                                           batch_size=batch_size, \n",
    "                                           shuffle=True)\n",
    "\n",
    "test_loader = torch.utils.data.DataLoader(dataset=test_dataset, \n",
    "                                          batch_size=batch_size, \n",
    "                                          shuffle=False)\n",
    "\n",
    "# Neural Network Model (1 hidden layer)\n",
    "class Net(nn.Module):\n",
    "    def __init__(self, input_size, hidden_size, num_classes):\n",
    "        super(Net, self).__init__()\n",
    "        self.fc1 = nn.Linear(input_size, hidden_size) \n",
    "        self.relu = nn.ReLU()\n",
    "        self.fc2 = nn.Linear(hidden_size, num_classes)  \n",
    "    \n",
    "    def forward(self, x):\n",
    "        out = self.fc1(x)\n",
    "        out = self.relu(out)\n",
    "        out = self.fc2(out)\n",
    "        return out\n",
    "    \n",
    "net = Net(input_size, hidden_size, num_classes)\n",
    "net.cuda()   \n",
    "    \n",
    "# Loss and Optimizer\n",
    "criterion = nn.CrossEntropyLoss()  \n",
    "optimizer = torch.optim.Adam(net.parameters(), lr=learning_rate)  \n",
    "\n",
    "# Train the Model\n",
    "for epoch in range(num_epochs):\n",
    "    for i, (images, labels) in enumerate(train_loader):  \n",
    "        # Convert torch tensor to Variable\n",
    "        images = Variable(images.view(-1, 28*28).cuda())\n",
    "        labels = Variable(labels.cuda())\n",
    "        \n",
    "        # Forward + Backward + Optimize\n",
    "        optimizer.zero_grad()  # zero the gradient buffer\n",
    "        outputs = net(images)\n",
    "        loss = criterion(outputs, labels)\n",
    "        loss.backward()\n",
    "        optimizer.step()\n",
    "        \n",
    "        if (i+1) % 100 == 0:\n",
    "            print ('Epoch [%d/%d], Step [%d/%d], Loss: %.4f' \n",
    "                   %(epoch+1, num_epochs, i+1, len(train_dataset)//batch_size, loss.data[0]))\n",
    "\n",
    "# Test the Model\n",
    "correct = 0\n",
    "total = 0\n",
    "for images, labels in test_loader:\n",
    "    images = Variable(images.view(-1, 28*28)).cuda()\n",
    "    outputs = net(images)\n",
    "    _, predicted = torch.max(outputs.data, 1)\n",
    "    total += labels.size(0)\n",
    "    correct += (predicted.cpu() == labels).sum()\n",
    "\n",
    "print('Accuracy of the network on the 10000 test images: %d %%' % (100 * correct / total))\n",
    "\n",
    "# Save the Model\n",
    "torch.save(net.state_dict(), 'model.pkl')"
   ]
  },
  {
   "cell_type": "code",
   "execution_count": null,
   "metadata": {
    "collapsed": true
   },
   "outputs": [],
   "source": []
  }
 ],
 "metadata": {
  "kernelspec": {
   "display_name": "Python [conda env:yangshuang]",
   "language": "python",
   "name": "conda-env-yangshuang-py"
  },
  "language_info": {
   "codemirror_mode": {
    "name": "ipython",
    "version": 3
   },
   "file_extension": ".py",
   "mimetype": "text/x-python",
   "name": "python",
   "nbconvert_exporter": "python",
   "pygments_lexer": "ipython3",
   "version": "3.5.4"
  }
 },
 "nbformat": 4,
 "nbformat_minor": 2
}
